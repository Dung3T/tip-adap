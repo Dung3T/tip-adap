{
  "cells": [
    {
      "cell_type": "code",
      "execution_count": 16,
      "metadata": {
        "id": "YyLjxrg7uzk7"
      },
      "outputs": [],
      "source": [
        "import subprocess\n",
        "import matplotlib.pyplot as plt\n",
        "import numpy as np"
      ]
    },
    {
      "cell_type": "code",
      "execution_count": 17,
      "metadata": {
        "id": "QGQaPO1oSiav"
      },
      "outputs": [],
      "source": [
        "import yaml\n",
        "\n",
        "def update_config_file(file_path, parameter_values):\n",
        "    # Load the YAML configuration file\n",
        "    with open(file_path, 'r') as yaml_file:\n",
        "        config = yaml.load(yaml_file, Loader=yaml.FullLoader)\n",
        "\n",
        "    # Update the specified parameters with the new values\n",
        "    for parameter, value in parameter_values.items():\n",
        "        config[parameter] = value\n",
        "\n",
        "    # Save the modified configuration back to the file\n",
        "    with open(file_path, 'w') as yaml_file:\n",
        "        yaml.dump(config, yaml_file, default_flow_style=False)\n"
      ]
    },
    {
      "cell_type": "code",
      "execution_count": 38,
      "metadata": {
        "id": "8EryEjJ0YReB"
      },
      "outputs": [],
      "source": [
        "def running(config_file_path):\n",
        "    parameter_values = {'root_path': './data/'}\n",
        "    update_config_file(config_file_path, parameter_values)\n",
        "\n",
        "    shots = [1,2,4,8,16]\n",
        "    for i in shots:\n",
        "        parameter_values = {'shots': i}\n",
        "        #print(parameter_values)\n",
        "        update_config_file(config_file_path, parameter_values)\n",
        "        result = subprocess.run(f'CUDA_VISIBLE_DEVICES=0 python3 main_new.py --config {config_file_path}', shell = True, capture_output=True, text=True)\n",
        "\n",
        "        if result.returncode != 0:\n",
        "            print(result.stderr)\n"
      ]
    },
    {
      "cell_type": "code",
      "execution_count": 19,
      "metadata": {
        "id": "rtxxzfETZiN8"
      },
      "outputs": [],
      "source": [
        "def plot(config_file_path):\n",
        "\n",
        "    file_path1 = './Tip-Adapter-main (1)/Tip-adapter_Result'\n",
        "\n",
        "    with open(file_path1, 'r') as file:\n",
        "        content = file.readlines()\n",
        "\n",
        "    # Convert each line to a float and store in a list\n",
        "    Tip = [float(line.strip()) for line in content]\n",
        "\n",
        "\n",
        "    file_path2 = './Tip-Adapter-main (1)/Tip-adapter_Result'\n",
        "\n",
        "    with open(file_path2, 'r') as file:\n",
        "        content = file.readlines()\n",
        "\n",
        "    # Convert each line to a float and store in a list\n",
        "    Tip_F = [float(line.strip()) for line in content]\n",
        "\n",
        "    # Plot\n",
        "    name = config_file_path.split('/')[-1].split('.')[0]\n",
        "    shots = [1,2,4,8,16]\n",
        "    plt.figure()\n",
        "    plt.plot(shots, Tip, label = 'Tip-Adapter', color = 'b', marker = 'o')\n",
        "    plt.plot(shots, Tip_F, label = 'Tip-Adapter-F', color = 'g', marker = 'o')\n",
        "    plt.legend()\n",
        "    plt.title(name)\n",
        "    plt.xlabel('Number of labeled training samples per class')\n",
        "    plt.ylabel('Score(%)')\n",
        "    plt.xlim(0,17)\n",
        "    plt.ylim(min(min(Tip), min(Tip_F)), max(max(Tip), max(Tip_F)))\n",
        "    plt.show()"
      ]
    },
    {
      "cell_type": "code",
      "execution_count": 20,
      "metadata": {
        "id": "vOmyWMvyap4E"
      },
      "outputs": [],
      "source": [
        "def remove_result_file():\n",
        "    with open('Tip-adapter-F_Result', 'w'):\n",
        "        pass\n",
        "    with open('Tip-adapter_Result', 'w'):\n",
        "        pass"
      ]
    },
    {
      "cell_type": "markdown",
      "metadata": {
        "id": "meGMHR5K6t4p"
      },
      "source": [
        "# caltech-101"
      ]
    },
    {
      "cell_type": "markdown",
      "metadata": {
        "id": "DjuCDmlndsth"
      },
      "source": [
        "## Load data"
      ]
    },
    {
      "cell_type": "markdown",
      "metadata": {
        "id": "rSq4XbytdqT-"
      },
      "source": [
        "## Running"
      ]
    },
    {
      "cell_type": "code",
      "execution_count": 24,
      "metadata": {
        "id": "REPHnnNudqUB"
      },
      "outputs": [],
      "source": [
        "config_file_path = 'Tip-Adapter-main (1)\\Tip-Adapter-main\\configs\\caltech101.yaml'"
      ]
    },
    {
      "cell_type": "markdown",
      "metadata": {
        "id": "KkeFjya3dqUB"
      },
      "source": [
        "**Train model**"
      ]
    },
    {
      "cell_type": "code",
      "execution_count": 25,
      "metadata": {
        "id": "baYW4JiYdqUC"
      },
      "outputs": [],
      "source": [
        "remove_result_file()"
      ]
    },
    {
      "cell_type": "code",
      "execution_count": 39,
      "metadata": {
        "id": "vRZDfJKqdqUC"
      },
      "outputs": [
        {
          "name": "stdout",
          "output_type": "stream",
          "text": [
            "'python3' is not recognized as an internal or external command,\n",
            "operable program or batch file.\n",
            "\n",
            "'python3' is not recognized as an internal or external command,\n",
            "operable program or batch file.\n",
            "\n",
            "'python3' is not recognized as an internal or external command,\n",
            "operable program or batch file.\n",
            "\n",
            "'python3' is not recognized as an internal or external command,\n",
            "operable program or batch file.\n",
            "\n",
            "'python3' is not recognized as an internal or external command,\n",
            "operable program or batch file.\n",
            "\n"
          ]
        }
      ],
      "source": [
        "running(config_file_path)"
      ]
    },
    {
      "cell_type": "markdown",
      "metadata": {
        "id": "6g2ECmC2dqUC"
      },
      "source": [
        "**Plot the result**"
      ]
    },
    {
      "cell_type": "code",
      "execution_count": null,
      "metadata": {
        "colab": {
          "base_uri": "https://localhost:8080/",
          "height": 471
        },
        "id": "vLb-WFZmdqUC",
        "outputId": "7ece0c50-2383-4681-e6c6-2619c83168a0"
      },
      "outputs": [
        {
          "data": {
            "image/png": "[encoded data removed]",
            "text/plain": [
              "<Figure size 640x480 with 1 Axes>"
            ]
          },
          "metadata": {},
          "output_type": "display_data"
        }
      ],
      "source": [
        "plot(config_file_path)"
      ]
    },
    {
      "cell_type": "code",
      "execution_count": null,
      "metadata": {
        "id": "6Yv0Pwu0dpuo"
      },
      "outputs": [],
      "source": [
        "!rm -r /content/DATA/caltech-101"
      ]
    },
    {
      "cell_type": "markdown",
      "metadata": {
        "id": "rVbKcZfhJ3-S"
      },
      "source": [
        "## With different visual encoder\n"
      ]
    },
    {
      "cell_type": "code",
      "execution_count": null,
      "metadata": {
        "colab": {
          "base_uri": "https://localhost:8080/"
        },
        "id": "j0Ng-IPDJ3-V",
        "outputId": "d1f64bf5-bb6f-4bc7-ef1f-50d3141f8189"
      },
      "outputs": [
        {
          "name": "stdout",
          "output_type": "stream",
          "text": [
            "/content/Tip-Adapter\n"
          ]
        }
      ],
      "source": [
        "%cd Tip-Adapter/"
      ]
    },
    {
      "cell_type": "code",
      "execution_count": null,
      "metadata": {
        "id": "LO5aDVlOJ3-W"
      },
      "outputs": [],
      "source": [
        "config_file_path = '/content/Tip-Adapter/configs/caltech101.yaml'"
      ]
    },
    {
      "cell_type": "markdown",
      "metadata": {
        "id": "2VOc8zbuJ3-X"
      },
      "source": [
        "**Train model**"
      ]
    },
    {
      "cell_type": "code",
      "execution_count": null,
      "metadata": {
        "id": "C8pqxw14J3-X"
      },
      "outputs": [],
      "source": [
        "remove_result_file()"
      ]
    },
    {
      "cell_type": "code",
      "execution_count": null,
      "metadata": {
        "id": "xnzMIHlyJ3-Y"
      },
      "outputs": [],
      "source": [
        "running_new(config_file_path)"
      ]
    },
    {
      "cell_type": "markdown",
      "metadata": {
        "id": "tRaL9NT7J3-Y"
      },
      "source": [
        "**Plot the result**"
      ]
    },
    {
      "cell_type": "code",
      "execution_count": null,
      "metadata": {
        "colab": {
          "base_uri": "https://localhost:8080/",
          "height": 471
        },
        "id": "0NQOirZTJ3-Z",
        "outputId": "8f2719f8-33e6-4d7b-baf3-e5f031a9df5e"
      },
      "outputs": [
        {
          "data": {
            "image/png": "[encoded data removed]",
            "text/plain": [
              "<Figure size 640x480 with 1 Axes>"
            ]
          },
          "metadata": {},
          "output_type": "display_data"
        }
      ],
      "source": [
        "plot_new(config_file_path)"
      ]
    },
    {
      "cell_type": "code",
      "execution_count": null,
      "metadata": {
        "id": "e0bpLlgzJ3-a"
      },
      "outputs": [],
      "source": [
        "!rm -r /content/DATA/caltech-101"
      ]
    }
  ],
  "metadata": {
    "accelerator": "GPU",
    "colab": {
      "collapsed_sections": [
        "LUIqc0vj-RjR",
        "4PZLFVpIfAQY",
        "ZH-xyiDMfHNf",
        "T-m25IO-J_VN",
        "n9uk2d79AdoB",
        "GCIL_wxCfcdR",
        "5FlIU85UfnTB",
        "GmBQARggKB_5",
        "t8PSJOcTCOR9",
        "Wb-OfTggf6ga",
        "E9FvMMZrf_bO",
        "HscvjiplKJzo",
        "gtaQrw4EEVH5",
        "eX35vLJ0gK_F",
        "WlFLAUAKgPyC",
        "CeZpJ8WJKQ5g",
        "a4Mdo-eMgavA",
        "moitmIf5gfVG",
        "oOulagc0KT_L",
        "k1sqHveVgoTz",
        "POK6yoMBM0XQ"
      ],
      "provenance": []
    },
    "kernelspec": {
      "display_name": "Python 3",
      "name": "python3"
    },
    "language_info": {
      "codemirror_mode": {
        "name": "ipython",
        "version": 3
      },
      "file_extension": ".py",
      "mimetype": "text/x-python",
      "name": "python",
      "nbconvert_exporter": "python",
      "pygments_lexer": "ipython3",
      "version": "3.11.5"
    }
  },
  "nbformat": 4,
  "nbformat_minor": 0
}
